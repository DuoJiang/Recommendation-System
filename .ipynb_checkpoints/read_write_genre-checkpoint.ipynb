{
 "cells": [
  {
   "cell_type": "markdown",
   "metadata": {},
   "source": [
    "## Packages"
   ]
  },
  {
   "cell_type": "code",
   "execution_count": 2,
   "metadata": {
    "ExecuteTime": {
     "end_time": "2020-04-27T04:42:52.780534Z",
     "start_time": "2020-04-27T04:42:52.495485Z"
    }
   },
   "outputs": [],
   "source": [
    "import numpy as np, pandas as pd\n",
    "import json"
   ]
  },
  {
   "cell_type": "markdown",
   "metadata": {},
   "source": [
    "## Read Data"
   ]
  },
  {
   "cell_type": "markdown",
   "metadata": {},
   "source": [
    "I use the [Poetry](https://sites.google.com/eng.ucsd.edu/ucsdbookgraph/home#h.p_kBNa-srdzjOX) as a subset of the goodreads interactions csv file. In the below, I will input a subset of the json file as an example and output the csv file which will help to test my code in Dumbo."
   ]
  },
  {
   "cell_type": "code",
   "execution_count": 3,
   "metadata": {
    "ExecuteTime": {
     "end_time": "2020-04-27T04:42:53.989379Z",
     "start_time": "2020-04-27T04:42:53.985088Z"
    }
   },
   "outputs": [],
   "source": [
    "def load_data(file_name, head = 100):\n",
    "    count = 0\n",
    "    data = []\n",
    "    with open(file_name, \"r\") as file:\n",
    "        for line in file:\n",
    "            d = json.loads(line)\n",
    "            count += 1\n",
    "            data.append(d)\n",
    "            \n",
    "            # break if reaches the 100th line\n",
    "            if (head is not None) and (count > head):\n",
    "                break\n",
    "    return data"
   ]
  },
  {
   "cell_type": "code",
   "execution_count": 4,
   "metadata": {
    "ExecuteTime": {
     "end_time": "2020-04-27T04:43:08.435835Z",
     "start_time": "2020-04-27T04:42:54.393674Z"
    }
   },
   "outputs": [],
   "source": [
    "path = \"/Users/garyliu/Documents/NYUClasses/BigData/Project/\"\n",
    "data = load_data(path+\"goodreads_interactions_poetry.json\", None)"
   ]
  },
  {
   "cell_type": "code",
   "execution_count": 5,
   "metadata": {
    "ExecuteTime": {
     "end_time": "2020-04-27T04:43:31.308263Z",
     "start_time": "2020-04-27T04:43:23.840056Z"
    }
   },
   "outputs": [],
   "source": [
    "# from list of dict to list of list with user_id, book_id, is_read, rating, is_review\n",
    "list_data = []\n",
    "for line in data:\n",
    "    list_data.append([line[\"user_id\"], line[\"book_id\"], int(line[\"is_read\"]),\n",
    "                      line[\"rating\"], int(len(line[\"review_text_incomplete\"])>0)])\n",
    "df = pd.DataFrame(list_data, columns = [\"user_id\", \"book_id\", \"is_read\", \"rating\", \"is_review\"])"
   ]
  },
  {
   "cell_type": "markdown",
   "metadata": {
    "ExecuteTime": {
     "end_time": "2020-04-27T04:29:07.301283Z",
     "start_time": "2020-04-27T04:29:07.284322Z"
    }
   },
   "source": [
    "## Write Out"
   ]
  },
  {
   "cell_type": "code",
   "execution_count": 6,
   "metadata": {
    "ExecuteTime": {
     "end_time": "2020-04-27T04:44:10.369646Z",
     "start_time": "2020-04-27T04:43:59.759478Z"
    }
   },
   "outputs": [],
   "source": [
    "## write to csv\n",
    "df.to_csv(\"subset_interactions.csv\", index=False)"
   ]
  },
  {
   "cell_type": "code",
   "execution_count": null,
   "metadata": {},
   "outputs": [],
   "source": []
  }
 ],
 "metadata": {
  "kernelspec": {
   "display_name": "Python 3",
   "language": "python",
   "name": "python3"
  },
  "language_info": {
   "codemirror_mode": {
    "name": "ipython",
    "version": 3
   },
   "file_extension": ".py",
   "mimetype": "text/x-python",
   "name": "python",
   "nbconvert_exporter": "python",
   "pygments_lexer": "ipython3",
   "version": "3.7.3"
  },
  "latex_envs": {
   "LaTeX_envs_menu_present": true,
   "autoclose": false,
   "autocomplete": true,
   "bibliofile": "biblio.bib",
   "cite_by": "apalike",
   "current_citInitial": 1,
   "eqLabelWithNumbers": true,
   "eqNumInitial": 1,
   "hotkeys": {
    "equation": "Ctrl-E",
    "itemize": "Ctrl-I"
   },
   "labels_anchors": false,
   "latex_user_defs": false,
   "report_style_numbering": false,
   "user_envs_cfg": false
  },
  "varInspector": {
   "cols": {
    "lenName": 16,
    "lenType": 16,
    "lenVar": 40
   },
   "kernels_config": {
    "python": {
     "delete_cmd_postfix": "",
     "delete_cmd_prefix": "del ",
     "library": "var_list.py",
     "varRefreshCmd": "print(var_dic_list())"
    },
    "r": {
     "delete_cmd_postfix": ") ",
     "delete_cmd_prefix": "rm(",
     "library": "var_list.r",
     "varRefreshCmd": "cat(var_dic_list()) "
    }
   },
   "types_to_exclude": [
    "module",
    "function",
    "builtin_function_or_method",
    "instance",
    "_Feature"
   ],
   "window_display": false
  }
 },
 "nbformat": 4,
 "nbformat_minor": 2
}
